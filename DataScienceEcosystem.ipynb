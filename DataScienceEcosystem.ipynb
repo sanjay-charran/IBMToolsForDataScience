{
 "cells": [
  {
   "cell_type": "markdown",
   "id": "a28f707e-e7b3-47ac-8f53-62710e98450d",
   "metadata": {
    "tags": []
   },
   "source": [
    "<h1>Data Science Tools and Ecosystem</h1>"
   ]
  },
  {
   "cell_type": "markdown",
   "id": "4db3466f-7c3f-4c9c-9580-0102a685ffe6",
   "metadata": {},
   "source": [
    "In this notebook, Data Science Tools and Ecosystem are summarized."
   ]
  },
  {
   "cell_type": "markdown",
   "id": "232f788c-6135-4324-879b-920da5a5fe9e",
   "metadata": {},
   "source": [
    "<b>Objectives:</b>\n",
    "<ul>\n",
    "    <li>List popular languages for Data Science</li>\n",
    "    <li>Create a Jupyter Notebook with markdown and code cells</li>\n",
    "    <li>Evaluate notebooks submitted by your peers using the provided rubric</li>\n",
    "</ul>"
   ]
  },
  {
   "cell_type": "markdown",
   "id": "043509ff-14bc-4cf5-9347-3a71d22d2123",
   "metadata": {},
   "source": [
    "Some of the popular languages that Data Scientists use are:\n",
    "<ol>\n",
    "    <li>Python</li>\n",
    "    <li>Julia</li>\n",
    "    <li>R</li>\n",
    "</ol>"
   ]
  },
  {
   "cell_type": "markdown",
   "id": "ad4942ed-d652-43aa-90a7-c6ccad4d40c0",
   "metadata": {},
   "source": [
    "Some of the commonly used libraries used by Data Scientists include:\n",
    "<ol>\n",
    "    <li>Pandas</li>\n",
    "    <li>SciPy</li>\n",
    "    <li>NumPy</li>\n",
    "</ol>"
   ]
  },
  {
   "cell_type": "markdown",
   "id": "f4fe5fe9-ee7b-4037-ad7c-a427bc898df7",
   "metadata": {},
   "source": [
    "<table style=\"border: 1px solid white;\">\n",
    "    <tr style=\"border: 1px solid white;\"><th style=\"font-size: 20px\">Data Science Tools</th></tr>\n",
    "    <tr style=\"border: 1px solid white;\"><td>RStudio</td></tr>\n",
    "    <tr style=\"border: 1px solid white;\"><td>Jupyter</td></tr>\n",
    "    <tr style=\"border: 1px solid white;\"><td>Spyder</td></tr>\n",
    "</table>"
   ]
  },
  {
   "cell_type": "markdown",
   "id": "b8405275-d5fb-48f5-8d7d-4208a4087e9b",
   "metadata": {},
   "source": [
    "<h3>Below are a few examples of evaluating arithmetic expressions in Python</h3>"
   ]
  },
  {
   "cell_type": "code",
   "execution_count": 3,
   "id": "22062a1f-9412-4340-bac5-aa9b24bd5b3b",
   "metadata": {
    "tags": []
   },
   "outputs": [
    {
     "data": {
      "text/plain": [
       "17"
      ]
     },
     "execution_count": 3,
     "metadata": {},
     "output_type": "execute_result"
    }
   ],
   "source": [
    "# This a simple arithmetic expression to mutiply then add integers\n",
    "\n",
    "(3 * 4) + 5\n"
   ]
  },
  {
   "cell_type": "code",
   "execution_count": 8,
   "id": "40858a73-0bdf-42fd-868c-34099e5d3c6c",
   "metadata": {
    "tags": []
   },
   "outputs": [
    {
     "name": "stdout",
     "output_type": "stream",
     "text": [
      "3.3333333333333335 hours\n"
     ]
    }
   ],
   "source": [
    "# This will convert 200 minutes to hours by diving by 60\n",
    "\n",
    "print(200/60, 'hours')"
   ]
  },
  {
   "cell_type": "markdown",
   "id": "76b110ec-cf4c-4525-acee-dd93000ea8f7",
   "metadata": {},
   "source": [
    "<h2>Author</h2>\n",
    "Sanjay Charran"
   ]
  },
  {
   "cell_type": "code",
   "execution_count": null,
   "id": "18ea7b81-38a4-4bda-b182-dcf12ac46adc",
   "metadata": {},
   "outputs": [],
   "source": []
  }
 ],
 "metadata": {
  "kernelspec": {
   "display_name": "Python",
   "language": "python",
   "name": "conda-env-python-py"
  },
  "language_info": {
   "codemirror_mode": {
    "name": "ipython",
    "version": 3
   },
   "file_extension": ".py",
   "mimetype": "text/x-python",
   "name": "python",
   "nbconvert_exporter": "python",
   "pygments_lexer": "ipython3",
   "version": "3.7.12"
  }
 },
 "nbformat": 4,
 "nbformat_minor": 5
}
